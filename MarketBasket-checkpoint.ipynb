{
 "cells": [
  {
   "cell_type": "code",
   "execution_count": 1,
   "id": "98891775-c08b-4884-9aa7-8a3b47a7d2b3",
   "metadata": {},
   "outputs": [
    {
     "name": "stdout",
     "output_type": "stream",
     "text": [
      "  Antecedents      Consequents   Support  Confidence      Lift\n",
      "0          []  [mineral water]  0.238368    0.238368  1.000000\n",
      "1   [burgers]           [eggs]  0.028796    0.330275  1.837830\n",
      "2   [burgers]   [french fries]  0.021997    0.252294  1.476173\n",
      "3   [burgers]  [mineral water]  0.024397    0.279817  1.173883\n",
      "4   [burgers]      [spaghetti]  0.021464    0.246177  1.413918\n"
     ]
    }
   ],
   "source": [
    "import pandas as pd\n",
    "from apyori import apriori\n",
    "\n",
    "# Load dataset\n",
    "df = pd.read_csv(\"store_data.csv\", header=None)\n",
    "\n",
    "# Convert dataset into a list of transactions\n",
    "transactions = []\n",
    "for i in range(len(df)):\n",
    "    transactions.append([str(item) for item in df.iloc[i] if str(item) != 'nan'])\n",
    "\n",
    "# Apply Apriori algorithm\n",
    "rules = apriori(transactions, min_support=0.02, min_confidence=0.2, min_lift=1.0, min_length=2)\n",
    "\n",
    "# Convert rules into a readable format\n",
    "results = list(rules)\n",
    "association_results = []\n",
    "for rule in results:\n",
    "    items = list(rule.items)\n",
    "    for ordered_stat in rule.ordered_statistics:\n",
    "        association_results.append({\n",
    "            \"Antecedents\": list(ordered_stat.items_base),\n",
    "            \"Consequents\": list(ordered_stat.items_add),\n",
    "            \"Support\": rule.support,\n",
    "            \"Confidence\": ordered_stat.confidence,\n",
    "            \"Lift\": ordered_stat.lift\n",
    "        })\n",
    "\n",
    "# Convert results to DataFrame and display\n",
    "rules_df = pd.DataFrame(association_results)\n",
    "print(rules_df.head())\n"
   ]
  }
 ],
 "metadata": {
  "kernelspec": {
   "display_name": "Python 3 (ipykernel)",
   "language": "python",
   "name": "python3"
  },
  "language_info": {
   "codemirror_mode": {
    "name": "ipython",
    "version": 3
   },
   "file_extension": ".py",
   "mimetype": "text/x-python",
   "name": "python",
   "nbconvert_exporter": "python",
   "pygments_lexer": "ipython3",
   "version": "3.12.7"
  }
 },
 "nbformat": 4,
 "nbformat_minor": 5
}
